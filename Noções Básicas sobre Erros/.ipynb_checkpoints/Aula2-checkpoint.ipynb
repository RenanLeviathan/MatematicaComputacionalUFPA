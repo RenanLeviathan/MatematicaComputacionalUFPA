{
 "cells": [
  {
   "cell_type": "markdown",
   "metadata": {},
   "source": [
    "# Atividade em sala"
   ]
  },
  {
   "cell_type": "code",
   "execution_count": 7,
   "metadata": {
    "collapsed": true
   },
   "outputs": [],
   "source": [
    "from IPython.display import Image\n",
    "from IPython.display import HTML\n",
    "import matplotlib.pyplot as plt\n",
    "import numpy as np\n",
    "import numpy.random as npr\n",
    "import math"
   ]
  },
  {
   "cell_type": "markdown",
   "metadata": {},
   "source": [
    "#### Exercício: converter 545"
   ]
  },
  {
   "cell_type": "code",
   "execution_count": 15,
   "metadata": {
    "collapsed": false
   },
   "outputs": [
    {
     "name": "stdout",
     "output_type": "stream",
     "text": [
      "N_0 = 545 = 2 * 272 + 1 => a_0 = 1 \n",
      "N_1 = 272 = 2 * 136 + 0 => a_1 = 0 \n",
      "N_2 = 136 = 2 * 68 + 0 => a_2 = 0 \n",
      "N_3 = 68 = 2 * 34 + 0 => a_3 = 0 \n",
      "N_4 = 34 = 2 * 17 + 0 => a_4 = 0 \n",
      "N_5 = 27 = 2 * 8 + 1 => a_5 = 1 \n",
      "N_6 = 8 = 2 * 4 + 0 => a_6 = 0 \n",
      "N_7 = 4 = 2 * 2 + 0 => a_7 = 0 \n",
      "N_8 = 2 = 2 * 1 + 0 => a_8 = 0 \n",
      "N_9 = 1 = 2 * 0 + 1 => a_4 = 1 \n",
      "0b1000100001\n"
     ]
    }
   ],
   "source": [
    "print('N_0 = 545 = 2 * 272 + 1 => a_0 = 1 ')\n",
    "print('N_1 = 272 = 2 * 136 + 0 => a_1 = 0 ')\n",
    "print('N_2 = 136 = 2 * 68 + 0 => a_2 = 0 ')\n",
    "print('N_3 = 68 = 2 * 34 + 0 => a_3 = 0 ')\n",
    "print('N_4 = 34 = 2 * 17 + 0 => a_4 = 0 ')\n",
    "print('N_5 = 27 = 2 * 8 + 1 => a_5 = 1 ')\n",
    "print('N_6 = 8 = 2 * 4 + 0 => a_6 = 0 ')\n",
    "print('N_7 = 4 = 2 * 2 + 0 => a_7 = 0 ')\n",
    "print('N_8 = 2 = 2 * 1 + 0 => a_8 = 0 ')\n",
    "print('N_9 = 1 = 2 * 0 + 1 => a_4 = 1 ')\n",
    "print(bin(545))"
   ]
  },
  {
   "cell_type": "markdown",
   "metadata": {},
   "source": [
    "### Exercício: fazer um def do algoritmo acima (conversão decimal binário)"
   ]
  },
  {
   "cell_type": "code",
   "execution_count": 4,
   "metadata": {
    "collapsed": true
   },
   "outputs": [],
   "source": [
    "def dec2bin(n):\n",
    "    if n//2==0:\n",
    "        return np.array([n])\n",
    "    else:\n",
    "        return np.append(np.array([n%2]),dec2bin(n//2))"
   ]
  },
  {
   "cell_type": "code",
   "execution_count": 8,
   "metadata": {
    "collapsed": false
   },
   "outputs": [
    {
     "name": "stdout",
     "output_type": "stream",
     "text": [
      "[ 0.  0.  0.  0.  1.  1.  0.  0.  1.  1.  0.  0.  1.  1.  0.  0.  1.  1.\n",
      "  0.  0.  1.  1.  0.  0.  1.  1.  0.  0.  1.  1.  0.  0.  1.  1.  0.  0.\n",
      "  1.  1.  0.  0.  1.  1.  0.  0.  1.  1.  0.  0.  1.  1.  0.  0.  1.  1.\n",
      "  0.  1.]\n"
     ]
    }
   ],
   "source": [
    "def dec2bin(n):\n",
    "    r,d = np.modf(n)\n",
    "    if r==.0:\n",
    "        return np.array([d])\n",
    "    else:\n",
    "        return np.append(np.array([d]),dec2bin(2*r))\n",
    "print(dec2bin(0.1))"
   ]
  },
  {
   "cell_type": "markdown",
   "metadata": {},
   "source": [
    "# decimal para binário (_float_)"
   ]
  },
  {
   "cell_type": "code",
   "execution_count": 23,
   "metadata": {
    "collapsed": false
   },
   "outputs": [
    {
     "name": "stdout",
     "output_type": "stream",
     "text": [
      "16.9877777778\n"
     ]
    }
   ],
   "source": [
    "def bin2dec(r):\n",
    "    f,d = np.modf(r)\n",
    "    if f==0:\n",
    "        return f\n",
    "    else:\n",
    "        return f+bin2dec(f*10)\n",
    "print(bin2dec(0.11))"
   ]
  },
  {
   "cell_type": "markdown",
   "metadata": {},
   "source": [
    "# Truncamento"
   ]
  },
  {
   "cell_type": "markdown",
   "metadata": {},
   "source": [
    "1.25 = 0.000125*10^{4}=> 0.0001\n",
    "10.053 = 0.001053*10^{4}=>0.0010"
   ]
  },
  {
   "cell_type": "code",
   "execution_count": 24,
   "metadata": {
    "collapsed": false
   },
   "outputs": [
    {
     "name": "stdout",
     "output_type": "stream",
     "text": [
      "10.053\n"
     ]
    }
   ],
   "source": [
    "num = 10.053\n",
    "print(1.0053*10**1)\n",
    "n2 = 0.000007\n",
    "print(0.000)"
   ]
  }
 ],
 "metadata": {
  "anaconda-cloud": {},
  "kernelspec": {
   "display_name": "Python [default]",
   "language": "python",
   "name": "python3"
  },
  "language_info": {
   "codemirror_mode": {
    "name": "ipython",
    "version": 3
   },
   "file_extension": ".py",
   "mimetype": "text/x-python",
   "name": "python",
   "nbconvert_exporter": "python",
   "pygments_lexer": "ipython3",
   "version": "3.5.2"
  }
 },
 "nbformat": 4,
 "nbformat_minor": 1
}
