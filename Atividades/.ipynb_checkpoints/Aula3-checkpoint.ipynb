{
 "cells": [
  {
   "cell_type": "markdown",
   "metadata": {
    "collapsed": true
   },
   "source": [
    "# Aula 3 (Trabalho para Sexta:)\n",
    "- fazer def para calcular format de precisão"
   ]
  },
  {
   "cell_type": "code",
   "execution_count": 1,
   "metadata": {
    "collapsed": true
   },
   "outputs": [],
   "source": [
    "pathFileImages = 'C:/Users/claud/Dropbox/RepoGit/Disciplina/Matemática Computacional/MatematicaComputacionalUFPAJupyter/Noções Básicas sobre Erros/Figuras Erros/'\n",
    "\n",
    "from IPython.display import Image\n",
    "from IPython.display import HTML\n",
    "import matplotlib.pyplot as plt\n",
    "import numpy as np\n",
    "import numpy.random as npr\n",
    "import math"
   ]
  },
  {
   "cell_type": "code",
   "execution_count": 1,
   "metadata": {},
   "outputs": [
    {
     "name": "stdout",
     "output_type": "stream",
     "text": [
      "0 01101 0101010101 = 0.333251953125 ≈ 1/3\n",
      "0.3330078125\n"
     ]
    }
   ],
   "source": [
    "print('0 01101 0101010101 = 0.333251953125 ≈ 1/3')\n",
    "print((-1)*0*2**(13-15)*2**1+2**-2+2**-4+2**-6+2**-8+2**-10)"
   ]
  },
  {
   "cell_type": "code",
   "execution_count": 5,
   "metadata": {},
   "outputs": [
    {
     "name": "stdout",
     "output_type": "stream",
     "text": [
      "0.0\n",
      "0.3330078125\n",
      "0.0009765625\n"
     ]
    }
   ],
   "source": [
    "def convert(st):\n",
    "    sign=st[0]\n",
    "    exponent=st[1:5]\n",
    "    sgt=st[6:]\n",
    "    sgtV=0\n",
    "    e = int('0b'+exponent,2)\n",
    "    for i in range(0,len(sgt)):\n",
    "        sgtV+=int(sgt[i])*2**(-(i+1))\n",
    "    value=0\n",
    "    if e==0:\n",
    "        #subnormal\n",
    "        value=(-1)*int(sign)*2**-14*sgtV\n",
    "    else:\n",
    "        value=(-1)*int(sign)*2**(e-15)*2**0+sgtV\n",
    "    return value\n",
    "print(convert('0011110000000000'))\n",
    "print(convert('0011010101010101'))\n",
    "print(convert('0011110000000001'))"
   ]
  },
  {
   "cell_type": "markdown",
   "metadata": {},
   "source": [
    "# Single-precision\n",
    "## Em Casa"
   ]
  },
  {
   "cell_type": "code",
   "execution_count": 11,
   "metadata": {},
   "outputs": [
    {
     "name": "stdout",
     "output_type": "stream",
     "text": [
      "0.15625\n"
     ]
    }
   ],
   "source": [
    "def sp32bit(st):\n",
    "    sign=int('0b'+st[0],2)\n",
    "    exponent=int('0b'+st[1:9],2)\n",
    "    frac=st[9:]\n",
    "    fracV=0\n",
    "    for i in range(0,len(frac)):\n",
    "        fracV+=int(frac[i])*2**-(i+1)\n",
    "    value=(-1)**sign*2**(exponent-127)*(1+fracV)\n",
    "    return value\n",
    "print(sp32bit('00111110001000000000000000000000'))"
   ]
  },
  {
   "cell_type": "markdown",
   "metadata": {},
   "source": [
    "# Double Precision\n",
    "## Em casa"
   ]
  },
  {
   "cell_type": "code",
   "execution_count": 19,
   "metadata": {},
   "outputs": [
    {
     "name": "stdout",
     "output_type": "stream",
     "text": [
      "9.456563898656132e-308\n"
     ]
    }
   ],
   "source": [
    "def sp64bit(st):\n",
    "    sign=int('0b'+st[0],2)\n",
    "    exponent=int('0b'+st[1:12],2)\n",
    "    frac=st[12:]\n",
    "    fracV=0\n",
    "    for i in range(0,len(frac)):\n",
    "        fracV+=int(frac[i])*2**-(i+1)\n",
    "    value=(-1)**sign*2**(exponent-1023)*(1+fracV)\n",
    "    return value\n",
    "print(sp64bit('0000000000110001000000000000000000000000000000000000000100001010'))"
   ]
  }
 ],
 "metadata": {
  "anaconda-cloud": {},
  "kernelspec": {
   "display_name": "Python 3",
   "language": "python",
   "name": "python3"
  },
  "language_info": {
   "codemirror_mode": {
    "name": "ipython",
    "version": 3
   },
   "file_extension": ".py",
   "mimetype": "text/x-python",
   "name": "python",
   "nbconvert_exporter": "python",
   "pygments_lexer": "ipython3",
   "version": "3.6.5"
  }
 },
 "nbformat": 4,
 "nbformat_minor": 1
}
