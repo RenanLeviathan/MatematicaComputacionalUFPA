{
 "cells": [
  {
   "cell_type": "markdown",
   "metadata": {},
   "source": [
    "# Def normalização"
   ]
  },
  {
   "cell_type": "code",
   "execution_count": 23,
   "metadata": {},
   "outputs": [],
   "source": [
    "from IPython.display import Image\n",
    "from IPython.display import HTML\n",
    "import matplotlib.pyplot as plt\n",
    "import numpy as np\n",
    "import numpy.random as npr\n",
    "import math"
   ]
  },
  {
   "cell_type": "code",
   "execution_count": 56,
   "metadata": {},
   "outputs": [
    {
     "name": "stdout",
     "output_type": "stream",
     "text": [
      "Número:  0.23589\n",
      "Truncamento: 0.23589*10**3\n",
      " Arredondamento: 0.23689*10**3\n"
     ]
    }
   ],
   "source": [
    "def verify(n, t, mi,ma):\n",
    "    k=0\n",
    "    nmr = n\n",
    "    f,d= np.modf(n)\n",
    "    if d!=0:\n",
    "        while d != 0:\n",
    "            n/=10\n",
    "            k+=1\n",
    "            f,d = np.modf(n)\n",
    "    else:\n",
    "        while f<0.1:\n",
    "            n*=10\n",
    "            k-=1\n",
    "            f,d=np.modf(n)\n",
    "    print(\"Número: \",n)\n",
    "    #contagem de dígitos\n",
    "    nr=n\n",
    "    ds=0\n",
    "    while nr>.0:\n",
    "        nr*=10\n",
    "        nr,d = np.modf(nr)\n",
    "        #print(nr)\n",
    "        ds+=1\n",
    "    if ds>t:\n",
    "        #aplicar truncamento e arredondamento\n",
    "        tru = n\n",
    "        arr = (n+10**(-ma))\n",
    "        print(\"Truncamento: {}*10**{}\\n Arredondamento: {}*10**{}\".format(tru,ma, arr,ma))\n",
    "    if k<mi:\n",
    "        print(\"Underflow\")\n",
    "    if k>ma:\n",
    "        print(\"Overflow\")\n",
    "verify(235.89,5,-3,3)"
   ]
  },
  {
   "cell_type": "code",
   "execution_count": null,
   "metadata": {},
   "outputs": [],
   "source": [
    "def dec2bin(n):\n",
    "    r,d = np.modf(n)\n",
    "    if r==.0:\n",
    "        return np.array([d])\n",
    "    else:\n",
    "        return np.append(np.array([d]),dec2bin(2*r))\n",
    "print(dec2bin(0.1))"
   ]
  },
  {
   "cell_type": "code",
   "execution_count": 7,
   "metadata": {},
   "outputs": [
    {
     "name": "stdout",
     "output_type": "stream",
     "text": [
      "[1.0, 0.0, 9.0, 3.0, 7.0, 5.0]\n",
      "0.10937500000000001\n"
     ]
    }
   ],
   "source": [
    "def bin2dec(n):\n",
    "    d=[]\n",
    "    s=0\n",
    "    r=n\n",
    "    f,dc = np.modf(n)\n",
    "    while r != 0:\n",
    "        w=r*10\n",
    "        r,dc = np.modf(w)\n",
    "        d.append(dc)\n",
    "    print(d)\n",
    "    for e,i in enumerate(d):\n",
    "        s+=i*10**-(e+1)\n",
    "    return s\n",
    "print(bin2dec(2**-4 + 2**-5 + 2**-6))"
   ]
  }
 ],
 "metadata": {
  "kernelspec": {
   "display_name": "Python 3",
   "language": "python",
   "name": "python3"
  },
  "language_info": {
   "codemirror_mode": {
    "name": "ipython",
    "version": 3
   },
   "file_extension": ".py",
   "mimetype": "text/x-python",
   "name": "python",
   "nbconvert_exporter": "python",
   "pygments_lexer": "ipython3",
   "version": "3.6.5"
  }
 },
 "nbformat": 4,
 "nbformat_minor": 2
}
