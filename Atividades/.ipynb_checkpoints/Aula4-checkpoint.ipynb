{
 "cells": [
  {
   "cell_type": "markdown",
   "metadata": {
    "collapsed": true
   },
   "source": [
    "# Erro Relativo"
   ]
  },
  {
   "cell_type": "code",
   "execution_count": 32,
   "metadata": {
    "collapsed": true
   },
   "outputs": [],
   "source": [
    "\n",
    "from IPython.display import Image\n",
    "from IPython.display import HTML\n",
    "import matplotlib.pyplot as plt\n",
    "import numpy as np\n",
    "import numpy.random as npr\n",
    "import math"
   ]
  },
  {
   "cell_type": "code",
   "execution_count": 48,
   "metadata": {
    "collapsed": false
   },
   "outputs": [
    {
     "name": "stdout",
     "output_type": "stream",
     "text": [
      "Erro absoluto de 2112.9 é 0.0\n",
      "Erro absoluto de 5.3 é -1.67580833905684e-16\n"
     ]
    }
   ],
   "source": [
    "#2112.9\n",
    "value = 2112.9\n",
    "inter = np.array([2112.8, 2113])\n",
    "medio = (inter[0]+inter[1])/2\n",
    "er = (value-medio)/medio\n",
    "print(\"Erro absoluto de {} é {}\".format(value, er));\n",
    "value = 5.3\n",
    "inter = np.array([5.2, 5.4])\n",
    "medio = (inter[0]+inter[1])/2\n",
    "er = (value-medio)/medio\n",
    "print(\"Erro absoluto de {} é {}\".format(value, er));"
   ]
  },
  {
   "cell_type": "code",
   "execution_count": 47,
   "metadata": {
    "collapsed": false
   },
   "outputs": [
    {
     "data": {
      "image/png": "[encoded data removed]",
      "text/plain": [
       "<matplotlib.figure.Figure at 0x1b8729207f0>"
      ]
     },
     "metadata": {},
     "output_type": "display_data"
    },
    {
     "data": {
      "image/png": "[encoded data removed]",
      "text/plain": [
       "<matplotlib.figure.Figure at 0x1b872964b70>"
      ]
     },
     "metadata": {},
     "output_type": "display_data"
    }
   ],
   "source": [
    "#plotar erro relativo )(truncamento) t de 2 a 12 (ou maior que 12)\n",
    "e = 3\n",
    "t = np.linspace(2,12,1000)\n",
    "def f(t):\n",
    "    return 10**(e-t)\n",
    "def g(t):\n",
    "    return 0.5*10**(1-t)\n",
    "plt.plot(t,f(t),'r--')\n",
    "plt.show()\n",
    "plt.plot(t,g(t),'b--')\n",
    "plt.show()"
   ]
  },
  {
   "cell_type": "code",
   "execution_count": 52,
   "metadata": {
    "collapsed": false
   },
   "outputs": [
    {
     "name": "stdout",
     "output_type": "stream",
     "text": [
      "10642.0\n"
     ]
    }
   ],
   "source": [
    "# erro nas operações\n",
    "x = 0.937\n",
    "xm = (x-0.001)+(x+0.001)\n",
    "y = 0.1272\n",
    "base = 10**4\n",
    "s = (x+y)*base\n",
    "print(s)"
   ]
  },
  {
   "cell_type": "markdown",
   "metadata": {},
   "source": [
    "explicação \n",
    "s = x + y, m = s * z, u = m - t\n",
    "s = x + y\n",
    "ERx+y = EAx+EAy/x'+y'\n",
    "ER.z = ERx+y'EAz+z'EAERx+y/ERx+y'\\*EAz = ERx+y' + ERz"
   ]
  }
 ],
 "metadata": {
  "anaconda-cloud": {},
  "kernelspec": {
   "display_name": "Python [default]",
   "language": "python",
   "name": "python3"
  },
  "language_info": {
   "codemirror_mode": {
    "name": "ipython",
    "version": 3
   },
   "file_extension": ".py",
   "mimetype": "text/x-python",
   "name": "python",
   "nbconvert_exporter": "python",
   "pygments_lexer": "ipython3",
   "version": "3.5.2"
  }
 },
 "nbformat": 4,
 "nbformat_minor": 1
}
